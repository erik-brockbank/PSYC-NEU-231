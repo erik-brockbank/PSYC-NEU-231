{
 "cells": [
  {
   "cell_type": "markdown",
   "metadata": {},
   "source": [
    "## EXERCISES\n",
    "\n",
    "### Vector Multiplication\n",
    "1. Produce 2 vectors, one with integers in the range [5,10] and the other [15,20] using the np.arange function\n",
    "1. Without using any functions from the numpy module\n",
    "    1. Compute the outer product of those vectors \n",
    "    1. Compute the \"trace\" of the resulting matrix\n",
    "    \n",
    "    ![trace](https://wikimedia.org/api/rest_v1/media/math/render/svg/3e5b6e82272fc5eeca6d510388e0a2bd0a6c6463)\n",
    "    \n",
    "    \n",
    "Complete the same items using numpy operations"
   ]
  },
  {
   "cell_type": "code",
   "execution_count": 33,
   "metadata": {},
   "outputs": [
    {
     "name": "stdout",
     "output_type": "stream",
     "text": [
      "[[ 75  80  85  90  95 100]\n",
      " [ 90  96 102 108 114 120]\n",
      " [105 112 119 126 133 140]\n",
      " [120 128 136 144 152 160]\n",
      " [135 144 153 162 171 180]\n",
      " [150 160 170 180 190 200]]\n",
      "805\n"
     ]
    }
   ],
   "source": [
    "import numpy as np\n",
    "\n",
    "# 1. \n",
    "vec_a = np.arange(5,11)\n",
    "vec_b = np.arange(15,21)\n",
    "\n",
    "# print(vec_a)\n",
    "# print(vec_b)\n",
    "# len(vec_a)\n",
    "\n",
    "# 2.A\n",
    "vec_c = np.empty((6,6), dtype=np.float32)\n",
    "# print(vec_c.shape[0], vec_c.shape[1])\n",
    "\n",
    "for row_index in range(vec_c.shape[0]):\n",
    "    for col_index in range(vec_c.shape[1]):\n",
    "        vec_c[row_index, col_index] = vec_a[row_index] * vec_b[col_index]\n",
    "# print(vec_c)\n",
    "\n",
    "# 2.B\n",
    "vec_c_trace = 0\n",
    "for row_index in range(vec_c.shape[0]):\n",
    "    vec_c_trace += vec_c[row_index, row_index]\n",
    "# print(vec_c_trace)\n",
    "\n",
    "\n",
    "# 3.\n",
    "vec_d = np.outer(vec_a, vec_b)\n",
    "print(vec_d)\n",
    "vec_d_trace = np.trace(vec_d)\n",
    "print(vec_d_trace)"
   ]
  },
  {
   "cell_type": "markdown",
   "metadata": {},
   "source": [
    "### Matrix Multiplication\n",
    "* Two matricies can be multiplied if their inner dimensions match (eg. 2x3 * 3x5 -> 2x5). The best rule for working with and mutliplying matricies is to remember (rows x columns). This applies to both the dimensions of a matrix (a 2x3 matrix has 2 rows and 3 columns) as well as multiplication (you multiply the rows of the first matrix by the columns of the second). \n",
    "\n",
    "* When multiplying two matricies of dimension (M x N)*(N x P) the resulting matrix is (M x P). The upper element of the reslting matrix is the inner (or dot) product of the first row of the first matrix and the first column of the second matrix\n",
    "\n",
    "![two matrices](https://wikimedia.org/api/rest_v1/media/math/render/svg/16b1644351bc2041175b19cbc65da03ef78130c7)\n",
    "\n",
    "![store product in matrix C](https://wikimedia.org/api/rest_v1/media/math/render/svg/00ac0c831c365b7424cc43239aae8cebea27c56c)\n",
    "\n",
    "![matrix multiply](https://wikimedia.org/api/rest_v1/media/math/render/svg/3cfeccef1c8c7e6da0ddf08daed8dbf3c6f50c5e)\n",
    "\n",
    "for i = 1, ..., n and j = 1, ..., p.\n",
    "\n",
    "1. Make two matrices of random numbers (A and B). A should be a 4x3 matrix and B should be a 3x4 matrix. Multiply A by B using (to a resulting matrix C) using:\n",
    "    1. a conventional for-loop\n",
    "    1. list comprehension\n",
    "    1. numpy operator\n",
    "    \n",
    "2. After you have C, pull out the upper quadrant using fancy indexing, and then replace the main diagonal (upper left to lower right) with 0s. "
   ]
  },
  {
   "cell_type": "code",
   "execution_count": 64,
   "metadata": {},
   "outputs": [
    {
     "name": "stdout",
     "output_type": "stream",
     "text": [
      "[[ 7.84077517  9.59912748 11.35747979 13.11583209]\n",
      " [12.41896473 15.02972826 17.64049178 20.2512553 ]\n",
      " [ 5.52012364  6.55727707  7.5944305   8.63158393]\n",
      " [ 7.43425658  8.76132857 10.08840056 11.41547255]]\n"
     ]
    }
   ],
   "source": [
    "# 1.A\n",
    "A = np.random.rand(4,3)\n",
    "# print(A)\n",
    "B = np.arange(1,13).reshape(3,4)\n",
    "# print(B)\n",
    "\n",
    "C = np.empty((4,4))\n",
    "for row_index in range(A.shape[0]):\n",
    "    for col_index in range(B.shape[1]):\n",
    "        A_row = A[row_index,]\n",
    "        B_col = B[:,col_index]\n",
    "#         print(A_row)\n",
    "#         print(B_col)\n",
    "        C_val = sum(A_row * B_col)\n",
    "#         print(C_val)\n",
    "        C[row_index, col_index] = C_val\n",
    "# print(C)\n",
    "\n",
    "# 1.B\n",
    "C = [sum(A[x,:] * B[:,y]) for x in range(A.shape[0]) for y in range(B.shape[1])]\n",
    "# C = C.reshape(4,4) # how to make this work?\n",
    "# print(C)\n",
    "\n",
    "# 1.C\n",
    "C = np.matmul(A, B)\n",
    "print(C)\n",
    "\n"
   ]
  },
  {
   "cell_type": "code",
   "execution_count": 72,
   "metadata": {},
   "outputs": [
    {
     "name": "stdout",
     "output_type": "stream",
     "text": [
      "[[ 7.84077517  9.59912748 11.35747979 13.11583209]\n",
      " [12.41896473 15.02972826 17.64049178 20.2512553 ]]\n",
      "[[ 7.84077517  9.59912748]\n",
      " [12.41896473 15.02972826]]\n"
     ]
    }
   ],
   "source": [
    "C_top_rows = C[[0,1]]\n",
    "print(C_top_rows)\n",
    "C_ext = C[[0,1]][:,[0,1]]\n",
    "print(C_ext)"
   ]
  },
  {
   "cell_type": "code",
   "execution_count": null,
   "metadata": {},
   "outputs": [],
   "source": []
  }
 ],
 "metadata": {
  "kernelspec": {
   "display_name": "Python 3",
   "language": "python",
   "name": "python3"
  },
  "language_info": {
   "codemirror_mode": {
    "name": "ipython",
    "version": 3
   },
   "file_extension": ".py",
   "mimetype": "text/x-python",
   "name": "python",
   "nbconvert_exporter": "python",
   "pygments_lexer": "ipython3",
   "version": "3.7.0"
  }
 },
 "nbformat": 4,
 "nbformat_minor": 2
}
